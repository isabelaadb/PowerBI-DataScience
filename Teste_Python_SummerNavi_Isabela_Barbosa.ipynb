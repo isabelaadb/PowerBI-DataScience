{
  "nbformat": 4,
  "nbformat_minor": 0,
  "metadata": {
    "colab": {
      "name": "Teste_Python_SummerNavi_Isabela_Barbosa",
      "provenance": [],
      "authorship_tag": "ABX9TyO5CUiG4qkz/jnd1Z5GHrLz",
      "include_colab_link": true
    },
    "kernelspec": {
      "name": "python3",
      "display_name": "Python 3"
    }
  },
  "cells": [
    {
      "cell_type": "markdown",
      "metadata": {
        "id": "view-in-github",
        "colab_type": "text"
      },
      "source": [
        "<a href=\"https://colab.research.google.com/github/isabelaadb/PowerBI-DataScience/blob/master/Teste_Python_SummerNavi_Isabela_Barbosa.ipynb\" target=\"_parent\"><img src=\"https://colab.research.google.com/assets/colab-badge.svg\" alt=\"Open In Colab\"/></a>"
      ]
    },
    {
      "cell_type": "code",
      "metadata": {
        "id": "RvAnOtW-GIVF"
      },
      "source": [
        "#Teste Python Summer Navi Isabela Almeida Dias Barbosa"
      ],
      "execution_count": null,
      "outputs": []
    },
    {
      "cell_type": "code",
      "metadata": {
        "colab": {
          "base_uri": "https://localhost:8080/"
        },
        "id": "kejk7jC--UPK",
        "outputId": "4ef66d67-e2e3-4d05-e723-90a9ea1fa852"
      },
      "source": [
        "#Exercício 1\r\n",
        "cont = 0\r\n",
        "for i in range(1, 5000000):\r\n",
        "    if i % 2 == 0 and i % 49 == 0 and i % 37 == 0:\r\n",
        "        cont += 1\r\n",
        "\r\n",
        "print (cont)"
      ],
      "execution_count": 1,
      "outputs": [
        {
          "output_type": "stream",
          "text": [
            "1378\n"
          ],
          "name": "stdout"
        }
      ]
    },
    {
      "cell_type": "code",
      "metadata": {
        "colab": {
          "base_uri": "https://localhost:8080/"
        },
        "id": "71bnH6Hp-fol",
        "outputId": "afafeeaa-5374-4a2e-ec35-ffb4985eeffe"
      },
      "source": [
        "#Exercício 2\r\n",
        "import math\r\n",
        "    \r\n",
        "vetor = []\r\n",
        "maior = 0\r\n",
        "soma = 0\r\n",
        "e = 2.71828182\r\n",
        "\r\n",
        "for i in range(0,10):\r\n",
        "    \r\n",
        "    if i % 2 == 0 or i == 0:\r\n",
        "        formula = (3 ** i) + 7 * (math.factorial(i))\r\n",
        "    else:\r\n",
        "        formula = (2 ** i) + 4 * math.log(i, e)\r\n",
        "\r\n",
        "    vetor.append(formula)\r\n",
        "    soma = soma + vetor[i]\r\n",
        "\r\n",
        "val_max = max(vetor)\r\n",
        "\r\n",
        "vetor_pos = vetor.index(val_max)\r\n",
        "\r\n",
        "qtde = len(vetor)\r\n",
        "\r\n",
        "#Posição do elemento maior\r\n",
        "print(vetor_pos)\r\n",
        "\r\n",
        "#Média dos valores do vetor\r\n",
        "print(round((soma/qtde),2))"
      ],
      "execution_count": 2,
      "outputs": [
        {
          "output_type": "stream",
          "text": [
            "8\n",
            "29555.94\n"
          ],
          "name": "stdout"
        }
      ]
    },
    {
      "cell_type": "code",
      "metadata": {
        "colab": {
          "base_uri": "https://localhost:8080/"
        },
        "id": "A060TdDrJbDD",
        "outputId": "1c8329be-71f3-4880-a3ed-94f5c790f621"
      },
      "source": [
        "#Exercício 3\r\n",
        "Nome = [\"A\", \"B\", \"C\", \"D\" ,\"E\"]\r\n",
        "lista_notas = []\r\n",
        "\r\n",
        "for i in range(0,5):\r\n",
        "    Nota = float(input(\"\"))    \r\n",
        "    lista_notas.append(Nota)\r\n",
        "\r\n",
        "lista = [(lista_notas[0],Nome[0]), (lista_notas[1],Nome[1]),(lista_notas[2],Nome[2]),(lista_notas[3],Nome[3]),(lista_notas[4],Nome[4])]\r\n",
        "\r\n",
        "dicio = dict(lista)\r\n",
        "\r\n",
        "Max = max(lista_notas)\r\n",
        "\r\n",
        "print(dicio.get(Max))\r\n",
        "\r\n",
        "print(Max)"
      ],
      "execution_count": 3,
      "outputs": [
        {
          "output_type": "stream",
          "text": [
            "1\n",
            "8\n",
            "7\n",
            "9\n",
            "5\n",
            "D\n",
            "9.0\n"
          ],
          "name": "stdout"
        }
      ]
    }
  ]
}